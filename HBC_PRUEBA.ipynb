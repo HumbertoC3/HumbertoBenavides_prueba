{
 "cells": [
  {
   "cell_type": "code",
   "execution_count": 34,
   "id": "84c0e564",
   "metadata": {},
   "outputs": [
    {
     "name": "stdout",
     "output_type": "stream",
     "text": [
      "1\n"
     ]
    }
   ],
   "source": [
    "lista = [1,3,1,3,2,1]\n",
    "numero_frecuente = lista[0]\n",
    "max_repeticiones=0\n",
    "\n",
    "for num in lista:\n",
    "    repeticiones=0\n",
    "    for otro_num in lista: \n",
    "        if num== otro_num:\n",
    "            repeticiones +=1\n",
    "    \n",
    "    if repeticiones > max_repeticiones or (repeticiones==max_repeticiones and num<numero_frecuente):\n",
    "        max_repeticiones=repeticiones\n",
    "        numero_frecuente=num \n",
    "\n",
    "print(numero_frecuente)\n"
   ]
  },
  {
   "cell_type": "code",
   "execution_count": 35,
   "id": "fc069f5b",
   "metadata": {},
   "outputs": [
    {
     "name": "stdout",
     "output_type": "stream",
     "text": [
      "url http://www.google.com\n"
     ]
    }
   ],
   "source": [
    "import urllib.request\n",
    "url=\"http://www.google.com\"\n",
    "\n",
    "try:\n",
    "    respuesta=urllib.request.urlopen(url)\n",
    "    contenido=respuesta.read().decode(\"latin-1\")\n",
    "    print(\"url\",url)\n",
    "except Exception as e:\n",
    "    print(\"Error:\",e)"
   ]
  },
  {
   "cell_type": "code",
   "execution_count": 1,
   "id": "1ce17b15",
   "metadata": {},
   "outputs": [
    {
     "name": "stdout",
     "output_type": "stream",
     "text": [
      "¡El script ha comenzado!\n",
      "La palabra ingresada fue: celular\n",
      "Estes es el URL https://listado.mercadolibre.com.co/celular\n",
      "\n",
      " Resultados encontrados:\n",
      "Celular Tcl 505 Dual Sim 128gb 4gb Gris Oscuro: $499.900\n",
      "Celular Tcl 505 Dual Sim 128gb 4gb Azul Oscuro: $499.900\n",
      "Xiaomi Poco X7 Pro Dual SIM 5g 512gb Negro 12ram 50mpx: $1.999.900\n",
      "Xiaomi POCO Poco X6 Pro 5G Dual SIM 512 GB amarillo 12 GB RAM: $1.999.000\n",
      "Xiaomi redmi 13 dual sim 256 gb negro 8 gb ram: $1.000.000\n"
     ]
    }
   ],
   "source": [
    "import requests\n",
    "from bs4 import BeautifulSoup\n",
    "print(\"¡El script ha comenzado!\")  # Mensaje de prueba\n",
    "\n",
    "palabra = input(\"Colocar lo que quiere buscar: \")  # Aquí debería aparecer el input\n",
    "\n",
    "print(\"La palabra ingresada fue:\", palabra)  # Verifica si el input funciona\n",
    "\n",
    "url = f\"https://listado.mercadolibre.com.co/{palabra}\"\n",
    "print(\"Estes es el URL\", url)\n",
    "headers = {\"User-Agent\": \"Mozilla/5.0\"}\n",
    "respuesta = requests.get(url, headers=headers)  # Hace la solicitud HTTP\n",
    "\n",
    "soup=BeautifulSoup(respuesta.text,\"html.parser\")\n",
    "\n",
    "alldivs = soup.find_all(\"div\",class_=\"ui-search-result__wrapper\",limit=5)\n",
    "products = []\n",
    "\n",
    "for item in alldivs:\n",
    "\n",
    "    title_element = item.find(\"h3\", class_=\"poly-component__title-wrapper\")\n",
    "    price_element = item.find(\"span\", class_=\"andes-money-amount__fraction\")\n",
    "\n",
    "    if title_element and price_element:\n",
    "        product_name = title_element.find(\"a\").text.strip()\n",
    "        product_price = price_element.text.strip()\n",
    "        products.append((product_name, product_price))\n",
    "\n",
    "print(\"\\n Resultados encontrados:\")\n",
    "for name, price in products:\n",
    "    print(f\"{name}: ${price}\")\n",
    "\n"
   ]
  },
  {
   "cell_type": "code",
   "execution_count": 6,
   "id": "3e920976",
   "metadata": {},
   "outputs": [
    {
     "name": "stdout",
     "output_type": "stream",
     "text": [
      "\n",
      " Usuarios en la base de datos:\n",
      " Usuario: Humberto, Contraseña: Beto2025*\n",
      " Usuario: Elvira, Contraseña: Zeuspapacito2025*\n",
      " Usuario: Pedro, Contraseña: Borracho2025*\n",
      " Usuario: admin, Contraseña: 1234\n",
      " Usuario: usuario, Contraseña: password\n",
      " Usuario: lucas, Contraseña: 1234\n"
     ]
    }
   ],
   "source": [
    "import sqlite3  \n",
    "\n",
    "\n",
    "nombre_bd = \"usuarios.db\"\n",
    "conexion = sqlite3.connect(nombre_bd)\n",
    "cursor = conexion.cursor()\n",
    "\n",
    "\n",
    "tabla = \"\"\"\n",
    "CREATE TABLE IF NOT EXISTS usuarios (\n",
    "    username TEXT PRIMARY KEY,\n",
    "    password TEXT\n",
    ")\n",
    "\"\"\"\n",
    "cursor.execute(tabla)\n",
    "\n",
    "\n",
    "usuarios_prueba = [(\"lucas\", \"1234\")]\n",
    "cursor.executemany(\"INSERT OR IGNORE INTO usuarios VALUES (?, ?)\", usuarios_prueba)\n",
    "\n",
    "conexion.commit()  \n",
    "\n",
    "\n",
    "cursor.execute(\"SELECT * FROM usuarios\")\n",
    "usuarios_registrados = cursor.fetchall()  \n",
    "\n",
    "\n",
    "print(\"\\n Usuarios en la base de datos:\")\n",
    "for usuario in usuarios_registrados:\n",
    "    print(f\" Usuario: {usuario[0]}, Contraseña: {usuario[1]}\")\n",
    "\n",
    "conexion.close()  \n"
   ]
  },
  {
   "cell_type": "code",
   "execution_count": 8,
   "id": "0e391a93",
   "metadata": {},
   "outputs": [
    {
     "name": "stdout",
     "output_type": "stream",
     "text": [
      "Usuario agregado correctamente\n",
      "\n",
      " Usuarios registrados:\n",
      "Usuario: Pablo,  Contraseña: 123456\n",
      "Usuario: Elvicas,  Contraseña: Zeus2025*\n"
     ]
    }
   ],
   "source": [
    "import sqlite3\n",
    "\n",
    "\n",
    "nombre_bd = \"usuarios2.db\"\n",
    "conn = sqlite3.connect(nombre_bd)\n",
    "cursor = conn.cursor()\n",
    "\n",
    "\n",
    "tabla_usuarios = \"\"\"\n",
    "CREATE TABLE IF NOT EXISTS usuarios (\n",
    "    username TEXT PRIMARY KEY,\n",
    "    password TEXT\n",
    ")\n",
    "\"\"\"\n",
    "cursor.execute(tabla_usuarios)\n",
    "\n",
    "nuevo_usuario = input(\"Ingrese el nombre de usuario: \")\n",
    "nueva_contraseña = input(\" Ingresa la contraseña: \")\n",
    "\n",
    "insertar_usuario = \"INSERT INTO usuarios VALUES (?, ?)\"\n",
    "\n",
    "try:\n",
    "    cursor.execute(insertar_usuario, (nuevo_usuario, nueva_contraseña))\n",
    "    conn.commit()\n",
    "    print(\"Usuario agregado correctamente\")\n",
    "except sqlite3.IntegrityError:\n",
    "    print(\"Error: El usuario ya existe\")\n",
    "\n",
    "ver_datos = input(\"\\n ¿Deseas ver los usuarios registrados? (si/no): \").strip().lower()\n",
    "\n",
    "if ver_datos == \"si\":\n",
    "    cursor.execute(\"SELECT * FROM usuarios\")\n",
    "    usuarios = cursor.fetchall()\n",
    "\n",
    "    print(\"\\n Usuarios registrados:\")\n",
    "    for usuario in usuarios:\n",
    "        print(f\"Usuario: {usuario[0]},  Contraseña: {usuario[1]}\")\n",
    "else:\n",
    "    print(\"No se mostrarán los datos registrados.\")\n",
    "conn.close()\n",
    "\n"
   ]
  }
 ],
 "metadata": {
  "kernelspec": {
   "display_name": "Python 3",
   "language": "python",
   "name": "python3"
  },
  "language_info": {
   "codemirror_mode": {
    "name": "ipython",
    "version": 3
   },
   "file_extension": ".py",
   "mimetype": "text/x-python",
   "name": "python",
   "nbconvert_exporter": "python",
   "pygments_lexer": "ipython3",
   "version": "3.11.9"
  }
 },
 "nbformat": 4,
 "nbformat_minor": 5
}
